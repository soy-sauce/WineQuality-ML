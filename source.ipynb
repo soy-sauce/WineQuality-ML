{
 "cells": [
  {
   "cell_type": "code",
   "execution_count": 15,
   "metadata": {},
   "outputs": [],
   "source": [
    "import numpy as np\n",
    "import pandas as pd\n",
    "from sklearn.model_selection import train_test_split\n",
    "from sklearn import preprocessing\n",
    "from sklearn.ensemble import RandomForestRegressor\n",
    "from sklearn.pipeline import make_pipeline\n",
    "from sklearn.model_selection import GridSearchCV\n",
    "from sklearn.metrics import mean_squared_error, r2_score\n",
    "from sklearn.externals import joblib"
   ]
  },
  {
   "cell_type": "code",
   "execution_count": 16,
   "metadata": {},
   "outputs": [
    {
     "data": {
      "text/html": [
       "<div>\n",
       "<style scoped>\n",
       "    .dataframe tbody tr th:only-of-type {\n",
       "        vertical-align: middle;\n",
       "    }\n",
       "\n",
       "    .dataframe tbody tr th {\n",
       "        vertical-align: top;\n",
       "    }\n",
       "\n",
       "    .dataframe thead th {\n",
       "        text-align: right;\n",
       "    }\n",
       "</style>\n",
       "<table border=\"1\" class=\"dataframe\">\n",
       "  <thead>\n",
       "    <tr style=\"text-align: right;\">\n",
       "      <th></th>\n",
       "      <th>fixed acidity</th>\n",
       "      <th>volatile acidity</th>\n",
       "      <th>citric acid</th>\n",
       "      <th>residual sugar</th>\n",
       "      <th>chlorides</th>\n",
       "      <th>free sulfur dioxide</th>\n",
       "      <th>total sulfur dioxide</th>\n",
       "      <th>density</th>\n",
       "      <th>pH</th>\n",
       "      <th>sulphates</th>\n",
       "      <th>alcohol</th>\n",
       "      <th>quality</th>\n",
       "    </tr>\n",
       "  </thead>\n",
       "  <tbody>\n",
       "    <tr>\n",
       "      <th>0</th>\n",
       "      <td>7.4</td>\n",
       "      <td>0.70</td>\n",
       "      <td>0.00</td>\n",
       "      <td>1.9</td>\n",
       "      <td>0.076</td>\n",
       "      <td>11.0</td>\n",
       "      <td>34.0</td>\n",
       "      <td>0.9978</td>\n",
       "      <td>3.51</td>\n",
       "      <td>0.56</td>\n",
       "      <td>9.4</td>\n",
       "      <td>5</td>\n",
       "    </tr>\n",
       "    <tr>\n",
       "      <th>1</th>\n",
       "      <td>7.8</td>\n",
       "      <td>0.88</td>\n",
       "      <td>0.00</td>\n",
       "      <td>2.6</td>\n",
       "      <td>0.098</td>\n",
       "      <td>25.0</td>\n",
       "      <td>67.0</td>\n",
       "      <td>0.9968</td>\n",
       "      <td>3.20</td>\n",
       "      <td>0.68</td>\n",
       "      <td>9.8</td>\n",
       "      <td>5</td>\n",
       "    </tr>\n",
       "    <tr>\n",
       "      <th>2</th>\n",
       "      <td>7.8</td>\n",
       "      <td>0.76</td>\n",
       "      <td>0.04</td>\n",
       "      <td>2.3</td>\n",
       "      <td>0.092</td>\n",
       "      <td>15.0</td>\n",
       "      <td>54.0</td>\n",
       "      <td>0.9970</td>\n",
       "      <td>3.26</td>\n",
       "      <td>0.65</td>\n",
       "      <td>9.8</td>\n",
       "      <td>5</td>\n",
       "    </tr>\n",
       "    <tr>\n",
       "      <th>3</th>\n",
       "      <td>11.2</td>\n",
       "      <td>0.28</td>\n",
       "      <td>0.56</td>\n",
       "      <td>1.9</td>\n",
       "      <td>0.075</td>\n",
       "      <td>17.0</td>\n",
       "      <td>60.0</td>\n",
       "      <td>0.9980</td>\n",
       "      <td>3.16</td>\n",
       "      <td>0.58</td>\n",
       "      <td>9.8</td>\n",
       "      <td>6</td>\n",
       "    </tr>\n",
       "    <tr>\n",
       "      <th>4</th>\n",
       "      <td>7.4</td>\n",
       "      <td>0.70</td>\n",
       "      <td>0.00</td>\n",
       "      <td>1.9</td>\n",
       "      <td>0.076</td>\n",
       "      <td>11.0</td>\n",
       "      <td>34.0</td>\n",
       "      <td>0.9978</td>\n",
       "      <td>3.51</td>\n",
       "      <td>0.56</td>\n",
       "      <td>9.4</td>\n",
       "      <td>5</td>\n",
       "    </tr>\n",
       "  </tbody>\n",
       "</table>\n",
       "</div>"
      ],
      "text/plain": [
       "   fixed acidity  volatile acidity  citric acid  residual sugar  chlorides  \\\n",
       "0            7.4              0.70         0.00             1.9      0.076   \n",
       "1            7.8              0.88         0.00             2.6      0.098   \n",
       "2            7.8              0.76         0.04             2.3      0.092   \n",
       "3           11.2              0.28         0.56             1.9      0.075   \n",
       "4            7.4              0.70         0.00             1.9      0.076   \n",
       "\n",
       "   free sulfur dioxide  total sulfur dioxide  density    pH  sulphates  \\\n",
       "0                 11.0                  34.0   0.9978  3.51       0.56   \n",
       "1                 25.0                  67.0   0.9968  3.20       0.68   \n",
       "2                 15.0                  54.0   0.9970  3.26       0.65   \n",
       "3                 17.0                  60.0   0.9980  3.16       0.58   \n",
       "4                 11.0                  34.0   0.9978  3.51       0.56   \n",
       "\n",
       "   alcohol  quality  \n",
       "0      9.4        5  \n",
       "1      9.8        5  \n",
       "2      9.8        5  \n",
       "3      9.8        6  \n",
       "4      9.4        5  "
      ]
     },
     "execution_count": 16,
     "metadata": {},
     "output_type": "execute_result"
    }
   ],
   "source": [
    "dataset_url = 'http://mlr.cs.umass.edu/ml/machine-learning-databases/wine-quality/winequality-red.csv'\n",
    "data = pd.read_csv(dataset_url)\n",
    "data=pd.read_csv(dataset_url,sep=';')\n",
    "data.head()"
   ]
  },
  {
   "cell_type": "code",
   "execution_count": 17,
   "metadata": {},
   "outputs": [
    {
     "name": "stdout",
     "output_type": "stream",
     "text": [
      "(1599, 12)\n",
      "<bound method NDFrame.describe of       fixed acidity  volatile acidity  citric acid  residual sugar  chlorides  \\\n",
      "0               7.4             0.700         0.00             1.9      0.076   \n",
      "1               7.8             0.880         0.00             2.6      0.098   \n",
      "2               7.8             0.760         0.04             2.3      0.092   \n",
      "3              11.2             0.280         0.56             1.9      0.075   \n",
      "4               7.4             0.700         0.00             1.9      0.076   \n",
      "5               7.4             0.660         0.00             1.8      0.075   \n",
      "6               7.9             0.600         0.06             1.6      0.069   \n",
      "7               7.3             0.650         0.00             1.2      0.065   \n",
      "8               7.8             0.580         0.02             2.0      0.073   \n",
      "9               7.5             0.500         0.36             6.1      0.071   \n",
      "10              6.7             0.580         0.08             1.8      0.097   \n",
      "11              7.5             0.500         0.36             6.1      0.071   \n",
      "12              5.6             0.615         0.00             1.6      0.089   \n",
      "13              7.8             0.610         0.29             1.6      0.114   \n",
      "14              8.9             0.620         0.18             3.8      0.176   \n",
      "15              8.9             0.620         0.19             3.9      0.170   \n",
      "16              8.5             0.280         0.56             1.8      0.092   \n",
      "17              8.1             0.560         0.28             1.7      0.368   \n",
      "18              7.4             0.590         0.08             4.4      0.086   \n",
      "19              7.9             0.320         0.51             1.8      0.341   \n",
      "20              8.9             0.220         0.48             1.8      0.077   \n",
      "21              7.6             0.390         0.31             2.3      0.082   \n",
      "22              7.9             0.430         0.21             1.6      0.106   \n",
      "23              8.5             0.490         0.11             2.3      0.084   \n",
      "24              6.9             0.400         0.14             2.4      0.085   \n",
      "25              6.3             0.390         0.16             1.4      0.080   \n",
      "26              7.6             0.410         0.24             1.8      0.080   \n",
      "27              7.9             0.430         0.21             1.6      0.106   \n",
      "28              7.1             0.710         0.00             1.9      0.080   \n",
      "29              7.8             0.645         0.00             2.0      0.082   \n",
      "...             ...               ...          ...             ...        ...   \n",
      "1569            6.2             0.510         0.14             1.9      0.056   \n",
      "1570            6.4             0.360         0.53             2.2      0.230   \n",
      "1571            6.4             0.380         0.14             2.2      0.038   \n",
      "1572            7.3             0.690         0.32             2.2      0.069   \n",
      "1573            6.0             0.580         0.20             2.4      0.075   \n",
      "1574            5.6             0.310         0.78            13.9      0.074   \n",
      "1575            7.5             0.520         0.40             2.2      0.060   \n",
      "1576            8.0             0.300         0.63             1.6      0.081   \n",
      "1577            6.2             0.700         0.15             5.1      0.076   \n",
      "1578            6.8             0.670         0.15             1.8      0.118   \n",
      "1579            6.2             0.560         0.09             1.7      0.053   \n",
      "1580            7.4             0.350         0.33             2.4      0.068   \n",
      "1581            6.2             0.560         0.09             1.7      0.053   \n",
      "1582            6.1             0.715         0.10             2.6      0.053   \n",
      "1583            6.2             0.460         0.29             2.1      0.074   \n",
      "1584            6.7             0.320         0.44             2.4      0.061   \n",
      "1585            7.2             0.390         0.44             2.6      0.066   \n",
      "1586            7.5             0.310         0.41             2.4      0.065   \n",
      "1587            5.8             0.610         0.11             1.8      0.066   \n",
      "1588            7.2             0.660         0.33             2.5      0.068   \n",
      "1589            6.6             0.725         0.20             7.8      0.073   \n",
      "1590            6.3             0.550         0.15             1.8      0.077   \n",
      "1591            5.4             0.740         0.09             1.7      0.089   \n",
      "1592            6.3             0.510         0.13             2.3      0.076   \n",
      "1593            6.8             0.620         0.08             1.9      0.068   \n",
      "1594            6.2             0.600         0.08             2.0      0.090   \n",
      "1595            5.9             0.550         0.10             2.2      0.062   \n",
      "1596            6.3             0.510         0.13             2.3      0.076   \n",
      "1597            5.9             0.645         0.12             2.0      0.075   \n",
      "1598            6.0             0.310         0.47             3.6      0.067   \n",
      "\n",
      "      free sulfur dioxide  total sulfur dioxide  density    pH  sulphates  \\\n",
      "0                    11.0                  34.0  0.99780  3.51       0.56   \n",
      "1                    25.0                  67.0  0.99680  3.20       0.68   \n",
      "2                    15.0                  54.0  0.99700  3.26       0.65   \n",
      "3                    17.0                  60.0  0.99800  3.16       0.58   \n",
      "4                    11.0                  34.0  0.99780  3.51       0.56   \n",
      "5                    13.0                  40.0  0.99780  3.51       0.56   \n",
      "6                    15.0                  59.0  0.99640  3.30       0.46   \n",
      "7                    15.0                  21.0  0.99460  3.39       0.47   \n",
      "8                     9.0                  18.0  0.99680  3.36       0.57   \n",
      "9                    17.0                 102.0  0.99780  3.35       0.80   \n",
      "10                   15.0                  65.0  0.99590  3.28       0.54   \n",
      "11                   17.0                 102.0  0.99780  3.35       0.80   \n",
      "12                   16.0                  59.0  0.99430  3.58       0.52   \n",
      "13                    9.0                  29.0  0.99740  3.26       1.56   \n",
      "14                   52.0                 145.0  0.99860  3.16       0.88   \n",
      "15                   51.0                 148.0  0.99860  3.17       0.93   \n",
      "16                   35.0                 103.0  0.99690  3.30       0.75   \n",
      "17                   16.0                  56.0  0.99680  3.11       1.28   \n",
      "18                    6.0                  29.0  0.99740  3.38       0.50   \n",
      "19                   17.0                  56.0  0.99690  3.04       1.08   \n",
      "20                   29.0                  60.0  0.99680  3.39       0.53   \n",
      "21                   23.0                  71.0  0.99820  3.52       0.65   \n",
      "22                   10.0                  37.0  0.99660  3.17       0.91   \n",
      "23                    9.0                  67.0  0.99680  3.17       0.53   \n",
      "24                   21.0                  40.0  0.99680  3.43       0.63   \n",
      "25                   11.0                  23.0  0.99550  3.34       0.56   \n",
      "26                    4.0                  11.0  0.99620  3.28       0.59   \n",
      "27                   10.0                  37.0  0.99660  3.17       0.91   \n",
      "28                   14.0                  35.0  0.99720  3.47       0.55   \n",
      "29                    8.0                  16.0  0.99640  3.38       0.59   \n",
      "...                   ...                   ...      ...   ...        ...   \n",
      "1569                 15.0                  34.0  0.99396  3.48       0.57   \n",
      "1570                 19.0                  35.0  0.99340  3.37       0.93   \n",
      "1571                 15.0                  25.0  0.99514  3.44       0.65   \n",
      "1572                 35.0                 104.0  0.99632  3.33       0.51   \n",
      "1573                 15.0                  50.0  0.99467  3.58       0.67   \n",
      "1574                 23.0                  92.0  0.99677  3.39       0.48   \n",
      "1575                 12.0                  20.0  0.99474  3.26       0.64   \n",
      "1576                 16.0                  29.0  0.99588  3.30       0.78   \n",
      "1577                 13.0                  27.0  0.99622  3.54       0.60   \n",
      "1578                 13.0                  20.0  0.99540  3.42       0.67   \n",
      "1579                 24.0                  32.0  0.99402  3.54       0.60   \n",
      "1580                  9.0                  26.0  0.99470  3.36       0.60   \n",
      "1581                 24.0                  32.0  0.99402  3.54       0.60   \n",
      "1582                 13.0                  27.0  0.99362  3.57       0.50   \n",
      "1583                 32.0                  98.0  0.99578  3.33       0.62   \n",
      "1584                 24.0                  34.0  0.99484  3.29       0.80   \n",
      "1585                 22.0                  48.0  0.99494  3.30       0.84   \n",
      "1586                 34.0                  60.0  0.99492  3.34       0.85   \n",
      "1587                 18.0                  28.0  0.99483  3.55       0.66   \n",
      "1588                 34.0                 102.0  0.99414  3.27       0.78   \n",
      "1589                 29.0                  79.0  0.99770  3.29       0.54   \n",
      "1590                 26.0                  35.0  0.99314  3.32       0.82   \n",
      "1591                 16.0                  26.0  0.99402  3.67       0.56   \n",
      "1592                 29.0                  40.0  0.99574  3.42       0.75   \n",
      "1593                 28.0                  38.0  0.99651  3.42       0.82   \n",
      "1594                 32.0                  44.0  0.99490  3.45       0.58   \n",
      "1595                 39.0                  51.0  0.99512  3.52       0.76   \n",
      "1596                 29.0                  40.0  0.99574  3.42       0.75   \n",
      "1597                 32.0                  44.0  0.99547  3.57       0.71   \n",
      "1598                 18.0                  42.0  0.99549  3.39       0.66   \n",
      "\n",
      "      alcohol  quality  \n",
      "0         9.4        5  \n",
      "1         9.8        5  \n",
      "2         9.8        5  \n",
      "3         9.8        6  \n",
      "4         9.4        5  \n",
      "5         9.4        5  \n",
      "6         9.4        5  \n",
      "7        10.0        7  \n",
      "8         9.5        7  \n",
      "9        10.5        5  \n",
      "10        9.2        5  \n",
      "11       10.5        5  \n",
      "12        9.9        5  \n",
      "13        9.1        5  \n",
      "14        9.2        5  \n",
      "15        9.2        5  \n",
      "16       10.5        7  \n",
      "17        9.3        5  \n",
      "18        9.0        4  \n",
      "19        9.2        6  \n",
      "20        9.4        6  \n",
      "21        9.7        5  \n",
      "22        9.5        5  \n",
      "23        9.4        5  \n",
      "24        9.7        6  \n",
      "25        9.3        5  \n",
      "26        9.5        5  \n",
      "27        9.5        5  \n",
      "28        9.4        5  \n",
      "29        9.8        6  \n",
      "...       ...      ...  \n",
      "1569     11.5        6  \n",
      "1570     12.4        6  \n",
      "1571     11.1        6  \n",
      "1572      9.5        5  \n",
      "1573     12.5        6  \n",
      "1574     10.5        6  \n",
      "1575     11.8        6  \n",
      "1576     10.8        6  \n",
      "1577     11.9        6  \n",
      "1578     11.3        6  \n",
      "1579     11.3        5  \n",
      "1580     11.9        6  \n",
      "1581     11.3        5  \n",
      "1582     11.9        5  \n",
      "1583      9.8        5  \n",
      "1584     11.6        7  \n",
      "1585     11.5        6  \n",
      "1586     11.4        6  \n",
      "1587     10.9        6  \n",
      "1588     12.8        6  \n",
      "1589      9.2        5  \n",
      "1590     11.6        6  \n",
      "1591     11.6        6  \n",
      "1592     11.0        6  \n",
      "1593      9.5        6  \n",
      "1594     10.5        5  \n",
      "1595     11.2        6  \n",
      "1596     11.0        6  \n",
      "1597     10.2        5  \n",
      "1598     11.0        6  \n",
      "\n",
      "[1599 rows x 12 columns]>\n"
     ]
    }
   ],
   "source": [
    "print(data.shape)\n",
    "print(data.describe)"
   ]
  },
  {
   "cell_type": "code",
   "execution_count": 18,
   "metadata": {},
   "outputs": [],
   "source": [
    "y=data.quality\n",
    "X=data.drop('quality',axis=1)"
   ]
  },
  {
   "cell_type": "code",
   "execution_count": 19,
   "metadata": {},
   "outputs": [],
   "source": [
    "X_train, X_test, y_train, y_test=train_test_split(X,y,test_size=0.2,random_state=123,stratify=y)"
   ]
  },
  {
   "cell_type": "code",
   "execution_count": 20,
   "metadata": {},
   "outputs": [
    {
     "name": "stdout",
     "output_type": "stream",
     "text": [
      "[[ 0.51358886  2.19680282 -0.164433   ...  1.08415147 -0.69866131\n",
      "  -0.58608178]\n",
      " [-1.73698885 -0.31792985 -0.82867679 ...  1.46964764  1.2491516\n",
      "   2.97009781]\n",
      " [-0.35201795  0.46443143 -0.47100705 ... -0.13658641 -0.35492962\n",
      "  -0.20843439]\n",
      " ...\n",
      " [-0.98679628  1.10708533 -0.93086814 ...  0.24890976 -0.98510439\n",
      "   0.35803669]\n",
      " [-0.69826067  0.46443143 -1.28853787 ...  1.08415147 -0.35492962\n",
      "  -0.68049363]\n",
      " [ 3.1104093  -0.62528606  2.08377675 ... -1.61432173  0.79084268\n",
      "  -0.39725809]]\n",
      "[ 1.16664562e-16 -3.05550043e-17 -8.47206937e-17 -2.22218213e-17\n",
      "  2.22218213e-17 -6.38877362e-17 -4.16659149e-18 -2.54439854e-15\n",
      " -8.70817622e-16 -4.08325966e-16 -1.17220107e-15]\n",
      "[1. 1. 1. 1. 1. 1. 1. 1. 1. 1. 1.]\n"
     ]
    }
   ],
   "source": [
    "X_train_scaled=preprocessing.scale(X_train)\n",
    "print(X_train_scaled)\n",
    "print(X_train_scaled.mean(axis=0))\n",
    "print(X_train_scaled.std(axis=0))"
   ]
  },
  {
   "cell_type": "code",
   "execution_count": 21,
   "metadata": {},
   "outputs": [],
   "source": [
    "scaler=preprocessing.StandardScaler().fit(X_train)"
   ]
  },
  {
   "cell_type": "code",
   "execution_count": 22,
   "metadata": {},
   "outputs": [
    {
     "name": "stdout",
     "output_type": "stream",
     "text": [
      "[ 1.16664562e-16 -3.05550043e-17 -8.47206937e-17 -2.22218213e-17\n",
      "  2.22218213e-17 -6.38877362e-17 -4.16659149e-18 -2.54439854e-15\n",
      " -8.70817622e-16 -4.08325966e-16 -1.17220107e-15]\n",
      "[1. 1. 1. 1. 1. 1. 1. 1. 1. 1. 1.]\n"
     ]
    }
   ],
   "source": [
    "X_train_scaled=scaler.transform(X_train)\n",
    "print(X_train_scaled.mean(axis=0))\n",
    "print(X_train_scaled.std(axis=0))\n"
   ]
  },
  {
   "cell_type": "code",
   "execution_count": 23,
   "metadata": {},
   "outputs": [
    {
     "name": "stdout",
     "output_type": "stream",
     "text": [
      "[ 0.02776704  0.02592492 -0.03078587 -0.03137977 -0.00471876 -0.04413827\n",
      " -0.02414174 -0.00293273 -0.00467444 -0.10894663  0.01043391]\n",
      "[1.02160495 1.00135689 0.97456598 0.91099054 0.86716698 0.94193125\n",
      " 1.03673213 1.03145119 0.95734849 0.83829505 1.0286218 ]\n"
     ]
    }
   ],
   "source": [
    "X_test_scaled=scaler.transform(X_test)\n",
    "print(X_test_scaled.mean(axis=0))\n",
    "print(X_test_scaled.std(axis=0))"
   ]
  },
  {
   "cell_type": "code",
   "execution_count": 24,
   "metadata": {},
   "outputs": [],
   "source": [
    "pipeline=make_pipeline(preprocessing.StandardScaler(),RandomForestRegressor(n_estimators=100))"
   ]
  },
  {
   "cell_type": "code",
   "execution_count": 25,
   "metadata": {},
   "outputs": [
    {
     "name": "stdout",
     "output_type": "stream",
     "text": [
      "{'memory': None, 'steps': [('standardscaler', StandardScaler(copy=True, with_mean=True, with_std=True)), ('randomforestregressor', RandomForestRegressor(bootstrap=True, criterion='mse', max_depth=None,\n",
      "                      max_features='auto', max_leaf_nodes=None,\n",
      "                      min_impurity_decrease=0.0, min_impurity_split=None,\n",
      "                      min_samples_leaf=1, min_samples_split=2,\n",
      "                      min_weight_fraction_leaf=0.0, n_estimators=100,\n",
      "                      n_jobs=None, oob_score=False, random_state=None,\n",
      "                      verbose=0, warm_start=False))], 'verbose': False, 'standardscaler': StandardScaler(copy=True, with_mean=True, with_std=True), 'randomforestregressor': RandomForestRegressor(bootstrap=True, criterion='mse', max_depth=None,\n",
      "                      max_features='auto', max_leaf_nodes=None,\n",
      "                      min_impurity_decrease=0.0, min_impurity_split=None,\n",
      "                      min_samples_leaf=1, min_samples_split=2,\n",
      "                      min_weight_fraction_leaf=0.0, n_estimators=100,\n",
      "                      n_jobs=None, oob_score=False, random_state=None,\n",
      "                      verbose=0, warm_start=False), 'standardscaler__copy': True, 'standardscaler__with_mean': True, 'standardscaler__with_std': True, 'randomforestregressor__bootstrap': True, 'randomforestregressor__criterion': 'mse', 'randomforestregressor__max_depth': None, 'randomforestregressor__max_features': 'auto', 'randomforestregressor__max_leaf_nodes': None, 'randomforestregressor__min_impurity_decrease': 0.0, 'randomforestregressor__min_impurity_split': None, 'randomforestregressor__min_samples_leaf': 1, 'randomforestregressor__min_samples_split': 2, 'randomforestregressor__min_weight_fraction_leaf': 0.0, 'randomforestregressor__n_estimators': 100, 'randomforestregressor__n_jobs': None, 'randomforestregressor__oob_score': False, 'randomforestregressor__random_state': None, 'randomforestregressor__verbose': 0, 'randomforestregressor__warm_start': False}\n"
     ]
    }
   ],
   "source": [
    "print(pipeline.get_params())"
   ]
  },
  {
   "cell_type": "code",
   "execution_count": 26,
   "metadata": {},
   "outputs": [],
   "source": [
    "hyperparameters={'randomforestregressor__max_features':['auto','sqrt','log2'],'randomforestregressor__max_depth':[None,5,3,1]}"
   ]
  },
  {
   "cell_type": "code",
   "execution_count": 28,
   "metadata": {},
   "outputs": [
    {
     "data": {
      "text/plain": [
       "GridSearchCV(cv=10, error_score='raise-deprecating',\n",
       "             estimator=Pipeline(memory=None,\n",
       "                                steps=[('standardscaler',\n",
       "                                        StandardScaler(copy=True,\n",
       "                                                       with_mean=True,\n",
       "                                                       with_std=True)),\n",
       "                                       ('randomforestregressor',\n",
       "                                        RandomForestRegressor(bootstrap=True,\n",
       "                                                              criterion='mse',\n",
       "                                                              max_depth=None,\n",
       "                                                              max_features='auto',\n",
       "                                                              max_leaf_nodes=None,\n",
       "                                                              min_impurity_decrease=0.0,\n",
       "                                                              min_impurity_split=None,\n",
       "                                                              min_...\n",
       "                                                              min_weight_fraction_leaf=0.0,\n",
       "                                                              n_estimators=100,\n",
       "                                                              n_jobs=None,\n",
       "                                                              oob_score=False,\n",
       "                                                              random_state=None,\n",
       "                                                              verbose=0,\n",
       "                                                              warm_start=False))],\n",
       "                                verbose=False),\n",
       "             iid='warn', n_jobs=None,\n",
       "             param_grid={'randomforestregressor__max_depth': [None, 5, 3, 1],\n",
       "                         'randomforestregressor__max_features': ['auto', 'sqrt',\n",
       "                                                                 'log2']},\n",
       "             pre_dispatch='2*n_jobs', refit=True, return_train_score=False,\n",
       "             scoring=None, verbose=0)"
      ]
     },
     "execution_count": 28,
     "metadata": {},
     "output_type": "execute_result"
    }
   ],
   "source": [
    "clf=GridSearchCV(pipeline,hyperparameters,cv=10)\n",
    "clf.fit(X_train,y_train)"
   ]
  },
  {
   "cell_type": "code",
   "execution_count": 29,
   "metadata": {},
   "outputs": [
    {
     "name": "stdout",
     "output_type": "stream",
     "text": [
      "{'randomforestregressor__max_depth': None, 'randomforestregressor__max_features': 'auto'}\n"
     ]
    }
   ],
   "source": [
    "print(clf.best_params_)"
   ]
  },
  {
   "cell_type": "code",
   "execution_count": 30,
   "metadata": {},
   "outputs": [
    {
     "name": "stdout",
     "output_type": "stream",
     "text": [
      "True\n"
     ]
    }
   ],
   "source": [
    "print(clf.refit)"
   ]
  },
  {
   "cell_type": "code",
   "execution_count": 31,
   "metadata": {},
   "outputs": [
    {
     "name": "stdout",
     "output_type": "stream",
     "text": [
      "0.46851601186512515\n",
      "0.3429525\n"
     ]
    }
   ],
   "source": [
    "y_pred=clf.predict(X_test)\n",
    "print(r2_score(y_test,y_pred))\n",
    "print(mean_squared_error(y_test,y_pred))"
   ]
  },
  {
   "cell_type": "code",
   "execution_count": 32,
   "metadata": {},
   "outputs": [],
   "source": [
    "joblib.dump(clf,'rf_regressor.pkl')\n",
    "clf2=joblib.load('rf_regressor.pkl')"
   ]
  },
  {
   "cell_type": "code",
   "execution_count": null,
   "metadata": {},
   "outputs": [],
   "source": []
  }
 ],
 "metadata": {
  "kernelspec": {
   "display_name": "Python 3",
   "language": "python",
   "name": "python3"
  },
  "language_info": {
   "codemirror_mode": {
    "name": "ipython",
    "version": 3
   },
   "file_extension": ".py",
   "mimetype": "text/x-python",
   "name": "python",
   "nbconvert_exporter": "python",
   "pygments_lexer": "ipython3",
   "version": "3.6.3"
  }
 },
 "nbformat": 4,
 "nbformat_minor": 2
}
